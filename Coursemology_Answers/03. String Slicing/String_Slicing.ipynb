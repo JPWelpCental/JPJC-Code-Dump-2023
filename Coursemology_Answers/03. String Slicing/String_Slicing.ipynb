{
 "cells": [
  {
   "cell_type": "code",
   "execution_count": null,
   "metadata": {},
   "outputs": [],
   "source": [
    "#Question 1\n",
    "\n",
    "word = \"architecture\"\n",
    "\n",
    "result = word[3:6]\n",
    "\n",
    "print(result)"
   ]
  },
  {
   "cell_type": "code",
   "execution_count": null,
   "metadata": {},
   "outputs": [],
   "source": [
    "#Question 2\n",
    "\n",
    "word = \"thesis\"\n",
    "\n",
    "result = word[1:5:3] + word[0]\n",
    "\n",
    "print(result)"
   ]
  },
  {
   "cell_type": "code",
   "execution_count": null,
   "metadata": {},
   "outputs": [],
   "source": [
    "#Question 3\n",
    "\n",
    "word = \"supercalifragilisticexpialidocious\"\n",
    "\n",
    "result = word[:5] + word[16:19] + word[17] + word[30:]\n",
    "\n",
    "#your code to display result\n",
    "print(result)"
   ]
  },
  {
   "cell_type": "code",
   "execution_count": null,
   "metadata": {},
   "outputs": [],
   "source": [
    "#Question 4\n",
    "\n",
    "word = \"time\"\n",
    "\n",
    "result = word[::-1]\n",
    "\n",
    "#your code to display result\n",
    "print(result)"
   ]
  },
  {
   "cell_type": "code",
   "execution_count": null,
   "metadata": {},
   "outputs": [],
   "source": [
    "#Question 5\n",
    "def alphaString(string):\n",
    "    return string.isalpha()"
   ]
  }
 ],
 "metadata": {
  "language_info": {
   "name": "python"
  },
  "orig_nbformat": 4
 },
 "nbformat": 4,
 "nbformat_minor": 2
}
