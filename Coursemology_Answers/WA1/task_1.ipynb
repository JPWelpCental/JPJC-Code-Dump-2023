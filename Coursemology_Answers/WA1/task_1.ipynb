{
 "cells": [
  {
   "cell_type": "code",
   "execution_count": null,
   "metadata": {},
   "outputs": [],
   "source": [
    "#task 1.1\n",
    "n=int(input(\"Enter an Interger: \"))\n",
    "if n%2:\n",
    "    print(n,\"is a odd number\")\n",
    "else:\n",
    "    print(n,\"is a even number\")"
   ]
  },
  {
   "cell_type": "code",
   "execution_count": null,
   "metadata": {},
   "outputs": [],
   "source": [
    "#task 1.2\n",
    "while True:\n",
    "    n=int(input(\"Enter an Interger: \"))\n",
    "    if n%2:\n",
    "        print(n,\"is a odd number\")\n",
    "    else:\n",
    "        print(n,\"is a even number\")\n",
    "    m=str(input(\"Type Yes or Y to quit program\"))\n",
    "    m=m.upper()\n",
    "    if m==\"YES\" or m==\"Y\":\n",
    "        break"
   ]
  }
 ],
 "metadata": {
  "language_info": {
   "name": "python"
  },
  "orig_nbformat": 4
 },
 "nbformat": 4,
 "nbformat_minor": 2
}
